{
  "nbformat": 4,
  "nbformat_minor": 0,
  "metadata": {
    "colab": {
      "provenance": []
    },
    "kernelspec": {
      "name": "python3",
      "display_name": "Python 3"
    },
    "language_info": {
      "name": "python"
    }
  },
  "cells": [
    {
      "cell_type": "code",
      "source": [
        "!pip install scikit-learn"
      ],
      "metadata": {
        "colab": {
          "base_uri": "https://localhost:8080/"
        },
        "id": "V56UWoCLg6Vw",
        "outputId": "2b23ab75-3f40-45dd-91d9-920d02f20ca3"
      },
      "execution_count": 4,
      "outputs": [
        {
          "output_type": "stream",
          "name": "stdout",
          "text": [
            "Requirement already satisfied: scikit-learn in /usr/local/lib/python3.11/dist-packages (1.6.1)\n",
            "Requirement already satisfied: numpy>=1.19.5 in /usr/local/lib/python3.11/dist-packages (from scikit-learn) (2.0.2)\n",
            "Requirement already satisfied: scipy>=1.6.0 in /usr/local/lib/python3.11/dist-packages (from scikit-learn) (1.15.3)\n",
            "Requirement already satisfied: joblib>=1.2.0 in /usr/local/lib/python3.11/dist-packages (from scikit-learn) (1.5.1)\n",
            "Requirement already satisfied: threadpoolctl>=3.1.0 in /usr/local/lib/python3.11/dist-packages (from scikit-learn) (3.6.0)\n"
          ]
        }
      ]
    },
    {
      "cell_type": "code",
      "source": [
        "from sklearn.feature_extraction.text import TfidfVectorizer\n",
        "from sklearn.metrics.pairwise import cosine_similarity\n",
        "\n",
        "# Sample texts (You can replace these with input())\n",
        "text1 = input(\"Enter first text:\\n\")\n",
        "text2 = input(\"Enter second text:\\n\")\n",
        "\n",
        "# Step 1: Vectorize the texts using TF-IDF\n",
        "vectorizer = TfidfVectorizer()\n",
        "tfidf_matrix = vectorizer.fit_transform([text1, text2])\n",
        "\n",
        "# Step 2: Calculate cosine similarity\n",
        "similarity = cosine_similarity(tfidf_matrix[0:1], tfidf_matrix[1:2])\n",
        "\n",
        "# Step 3: Output the result\n",
        "print(f\"Cosine Similarity Score: {similarity[0][0]:.4f}\")\n",
        "\n",
        "# Optional: Percentage\n",
        "print(f\"Text Similarity: {similarity[0][0] * 100:.2f}%\")\n"
      ],
      "metadata": {
        "colab": {
          "base_uri": "https://localhost:8080/"
        },
        "id": "rgfoz6cOg3z0",
        "outputId": "ad89c7c6-4d1a-40ac-e8aa-a58c342a2ea7"
      },
      "execution_count": 5,
      "outputs": [
        {
          "output_type": "stream",
          "name": "stdout",
          "text": [
            "Enter first text:\n",
            "Artificial Intelligence is transforming the world.\n",
            "Enter second text:\n",
            "The world is changing due to advances in AI.\n",
            "Cosine Similarity Score: 0.2606\n",
            "Text Similarity: 26.06%\n"
          ]
        }
      ]
    }
  ]
}